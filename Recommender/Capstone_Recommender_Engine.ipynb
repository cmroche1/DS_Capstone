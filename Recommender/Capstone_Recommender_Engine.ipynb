{
 "cells": [
  {
   "cell_type": "code",
   "execution_count": 1,
   "metadata": {},
   "outputs": [],
   "source": [
    "import numpy as np\n",
    "import pandas as pd\n",
    "import tensorflow.compat.v1 as tf\n",
    "import warnings\n",
    "warnings.simplefilter('ignore', DeprecationWarning)\n",
    "from pandas.core.common import SettingWithCopyWarning\n",
    "warnings.simplefilter(action=\"ignore\", category=SettingWithCopyWarning)\n",
    "\n",
    "tf.compat.v1.disable_eager_execution()\n",
    "slot_arms = pd.read_csv(\"C:/Users/nedei/OneDrive/Documents/GitHub/DS_Capstone/Recommender/recommender_results.csv\")\n",
    "cat1_slot_arms = slot_arms[slot_arms['Criteria']=='criteria1']\n",
    "cat1_slot_arms_rewards = cat1_slot_arms['Num_Votes'].tolist()\n",
    "cat1_slot_arms_offers = cat1_slot_arms['Num_Offers'].tolist()\n",
    "cat2_slot_arms = slot_arms[slot_arms['Criteria']=='criteria2']\n",
    "cat2_slot_arms_rewards = cat2_slot_arms['Num_Votes'].tolist()\n",
    "cat_slot_arms_offers = cat2_slot_arms['Num_Offers'].tolist()\n",
    "cat3_slot_arms = slot_arms[slot_arms['Criteria']=='criteria3']\n",
    "cat3_slot_arms_rewards = cat3_slot_arms['Num_Votes'].tolist()\n",
    "cat3_slot_arms_offers = cat3_slot_arms['Num_Offers'].tolist()\n",
    "len_cat1_slot_arms = len(cat1_slot_arms)\n",
    "len_cat2_slot_arms = len(cat2_slot_arms)\n",
    "len_cat3_slot_arms = len(cat3_slot_arms)"
   ]
  },
  {
   "cell_type": "code",
   "execution_count": 2,
   "metadata": {},
   "outputs": [],
   "source": [
    "def findReward(arm):\n",
    "    result = np.random.randn(1)\n",
    "    if result > arm:\n",
    "        #returns a positive reward\n",
    "        return 0\n",
    "    else:\n",
    "        #returns a negative reward\n",
    "        return 0"
   ]
  },
  {
   "cell_type": "code",
   "execution_count": 3,
   "metadata": {},
   "outputs": [
    {
     "name": "stdout",
     "output_type": "stream",
     "text": [
      "WARNING:tensorflow:From C:\\Users\\nedei\\anaconda3\\lib\\site-packages\\tensorflow\\python\\util\\tf_should_use.py:243: initialize_all_variables (from tensorflow.python.ops.variables) is deprecated and will be removed after 2017-03-02.\n",
      "Instructions for updating:\n",
      "Use `tf.global_variables_initializer` instead.\n",
      "Random\n",
      "0\n"
     ]
    },
    {
     "data": {
      "text/plain": [
       "[1, 5, 4]"
      ]
     },
     "execution_count": 3,
     "metadata": {},
     "output_type": "execute_result"
    }
   ],
   "source": [
    "#setup of initial weights to get prediction\n",
    "weights = tf.Variable(tf.ones([len_cat1_slot_arms]))\n",
    "chosen_action = tf.argmax(cat1_slot_arms_rewards,0)\n",
    "reward_holder = tf.placeholder(shape=[1],dtype=tf.float32)\n",
    "action_holder = tf.placeholder(shape=[1],dtype=tf.int32)\n",
    "responsible_weight = tf.slice(weights,action_holder,[1])\n",
    "loss = -(tf.log(responsible_weight)*reward_holder)\n",
    "optimizer = tf.train.GradientDescentOptimizer(learning_rate=0.01)\n",
    "update = optimizer.minimize(loss)\n",
    "\n",
    "#Run recommendation for Category 1\n",
    "total_episodes = 1\n",
    "total_reward = cat1_slot_arms_rewards #output reward array\n",
    "e = 0.5 #chance of taking a random action.\n",
    "init = tf.initialize_all_variables()\n",
    "\n",
    "with tf.Session() as sess:\n",
    "  sess.run(init)\n",
    "  i = 0\n",
    " \n",
    "  while i < total_episodes:\n",
    "    if np.random.rand(1) < e:\n",
    "      action = np.random.randint(len_cat1_slot_arms)\n",
    "      print('Random')\n",
    "    else:\n",
    "      action = sess.run(chosen_action)\n",
    "      print('Chosen')\n",
    "    reward = 0\n",
    "    _,resp,ww = sess.run([update,responsible_weight,weights], feed_dict={reward_holder:[reward],action_holder:[action]})\n",
    "    total_reward[action] += reward\n",
    "    i+=1\n",
    "print(action)\n",
    "videonum = action\n",
    "videoselected = cat1_slot_arms.iloc[videonum]\n",
    "cat1vid = videoselected[['Link']].values[0]\n",
    "vidlink1 = '''<div class=\"container\"><iframe class=\"responsive-iframe\" src=\"''' +cat1vid+'''\" title=\"YouTube video player\" frameborder=\"0\" allow=\"accelerometer; autoplay; clipboard-write; encrypted-media; gyroscope; picture-in-picture\" allowfullscreen></iframe></div>'''\n",
    "cat1_slot_arms_rewards[videonum] = cat1_slot_arms_rewards[videonum]+reward\n",
    "cat1_slot_arms_offers[videonum] = cat1_slot_arms_offers[videonum]+1\n",
    "cat1_slot_arms_rewards\n",
    "cat1_slot_arms_offers"
   ]
  },
  {
   "cell_type": "code",
   "execution_count": 4,
   "metadata": {},
   "outputs": [
    {
     "name": "stdout",
     "output_type": "stream",
     "text": [
      "Running on local URL:  http://127.0.0.1:7861/\n",
      "Running on public URL: https://20139.gradio.app\n",
      "\n",
      "This share link expires in 72 hours. For free permanent hosting, check out Spaces (https://huggingface.co/spaces)\n"
     ]
    },
    {
     "data": {
      "text/html": [
       "<div><iframe src=\"https://20139.gradio.app\" width=\"900\" height=\"500\" allow=\"autoplay; camera; microphone;\" frameborder=\"0\" allowfullscreen></iframe></div>"
      ],
      "text/plain": [
       "<IPython.core.display.HTML object>"
      ]
     },
     "metadata": {},
     "output_type": "display_data"
    },
    {
     "data": {
      "text/plain": [
       "(<gradio.routes.App at 0x1b527fd9310>,\n",
       " 'http://127.0.0.1:7861/',\n",
       " 'https://20139.gradio.app')"
      ]
     },
     "execution_count": 4,
     "metadata": {},
     "output_type": "execute_result"
    }
   ],
   "source": [
    "def review_cat1(inputs):\n",
    "    if inputs == 'Yes':\n",
    "      reward = 1\n",
    "      print(reward)\n",
    "    if inputs == 'No':\n",
    "      reward = 0\n",
    "      print(reward)\n",
    "    else:\n",
    "      reward == -1\n",
    "    print(reward)\n",
    "    cat1_slot_arms_rewards[videonum] = cat1_slot_arms_rewards[videonum]+reward\n",
    "    cat1_slot_arms['Num_Votes'] = cat1_slot_arms_rewards\n",
    "    cat2_slot_arms['Num_Votes'] = cat2_slot_arms_rewards\n",
    "    cat3_slot_arms['Num_Votes'] = cat3_slot_arms_rewards\n",
    "    slot_arms_new = cat1_slot_arms.append(cat2_slot_arms)\n",
    "    slot_arms_new = slot_arms_new.append(cat3_slot_arms)\n",
    "    slot_arms_new.to_csv(\"C:/Users/nedei/OneDrive/Documents/GitHub/DS_Capstone/Recommender/recommender_results.csv\",index = False)\n",
    "    return cat1_slot_arms_rewards\n",
    "import gradio as gr\n",
    "\n",
    "demo = gr.Interface(\n",
    "    fn = review_cat1,\n",
    "    inputs=gr.Radio([\"No\", \"Yes\"],label=\"Was this video helpful?\"),\n",
    "    outputs=None,\n",
    "    description = vidlink1,\n",
    "    css = \"\"\".container {\n",
    "  position: relative;\n",
    "  overflow: hidden;\n",
    "  width: 100%;\n",
    "  padding-bottom: 40%; /* 16:9 Aspect Ratio (divide 9 by 16 = 0.5625) */\n",
    "}\n",
    "\n",
    "/* Then style the iframe to fit in the container div with full height and width */\n",
    ".responsive-iframe {\n",
    "  position: absolute;\n",
    "  top: 0;\n",
    "  left: 0;\n",
    "  bottom: 0;\n",
    "  right: 0;\n",
    "  width: 100%;\n",
    "  height: 100%;\n",
    "}\"\"\")\n",
    "    #description = 'Please click this link:' + cat1vid)\n",
    "#)\n",
    "demo.launch(share = True)"
   ]
  },
  {
   "cell_type": "code",
   "execution_count": 5,
   "metadata": {},
   "outputs": [
    {
     "name": "stdout",
     "output_type": "stream",
     "text": [
      "Random\n",
      "2\n"
     ]
    },
    {
     "data": {
      "text/plain": [
       "[0, 5, 4]"
      ]
     },
     "execution_count": 5,
     "metadata": {},
     "output_type": "execute_result"
    }
   ],
   "source": [
    "#setup of initial weights to get prediction\n",
    "weights = tf.Variable(tf.ones([len_cat2_slot_arms]))\n",
    "chosen_action = tf.argmax(cat2_slot_arms_rewards,0)\n",
    "reward_holder = tf.placeholder(shape=[1],dtype=tf.float32)\n",
    "action_holder = tf.placeholder(shape=[1],dtype=tf.int32)\n",
    "responsible_weight = tf.slice(weights,action_holder,[1])\n",
    "loss = -(tf.log(responsible_weight)*reward_holder)\n",
    "optimizer = tf.train.GradientDescentOptimizer(learning_rate=0.01)\n",
    "update = optimizer.minimize(loss)\n",
    "\n",
    "#Run recommendation for Category 1\n",
    "total_episodes = 1\n",
    "total_reward = cat2_slot_arms_rewards #output reward array\n",
    "e = 0.5 #chance of taking a random action.\n",
    "init = tf.initialize_all_variables()\n",
    "\n",
    "with tf.Session() as sess:\n",
    "  sess.run(init)\n",
    "  i = 0\n",
    " \n",
    "  while i < total_episodes:\n",
    "    if np.random.rand(1) < e:\n",
    "      action = np.random.randint(len_cat2_slot_arms)\n",
    "      print('Random')\n",
    "    else:\n",
    "      action = sess.run(chosen_action)\n",
    "      print('Chosen')\n",
    "    reward = 0\n",
    "    _,resp,ww = sess.run([update,responsible_weight,weights], feed_dict={reward_holder:[reward],action_holder:[action]})\n",
    "    total_reward[action] += reward\n",
    "    i+=1\n",
    "print(action)\n",
    "videonum = action\n",
    "videoselected = cat2_slot_arms.iloc[videonum]\n",
    "cat2vid = videoselected[['Link']].values[0]\n",
    "vidlink2 = '''<div class=\"container\"><iframe class=\"responsive-iframe\" src=\"''' +cat2vid+'''\" title=\"YouTube video player\" frameborder=\"0\" allow=\"accelerometer; autoplay; clipboard-write; encrypted-media; gyroscope; picture-in-picture\" allowfullscreen></iframe></div>'''\n",
    "cat2_slot_arms_rewards[videonum] = cat2_slot_arms_rewards[videonum]+reward\n",
    "cat2_slot_arms_rewards"
   ]
  },
  {
   "cell_type": "code",
   "execution_count": 6,
   "metadata": {},
   "outputs": [
    {
     "name": "stdout",
     "output_type": "stream",
     "text": [
      "Running on local URL:  http://127.0.0.1:7862/\n",
      "Running on public URL: https://19755.gradio.app\n",
      "\n",
      "This share link expires in 72 hours. For free permanent hosting, check out Spaces (https://huggingface.co/spaces)\n"
     ]
    },
    {
     "data": {
      "text/html": [
       "<div><iframe src=\"https://19755.gradio.app\" width=\"900\" height=\"500\" allow=\"autoplay; camera; microphone;\" frameborder=\"0\" allowfullscreen></iframe></div>"
      ],
      "text/plain": [
       "<IPython.core.display.HTML object>"
      ]
     },
     "metadata": {},
     "output_type": "display_data"
    },
    {
     "data": {
      "text/plain": [
       "(<gradio.routes.App at 0x1b529141e80>,\n",
       " 'http://127.0.0.1:7862/',\n",
       " 'https://19755.gradio.app')"
      ]
     },
     "execution_count": 6,
     "metadata": {},
     "output_type": "execute_result"
    }
   ],
   "source": [
    "def review_cat2(inputs):\n",
    "    if inputs == 'Yes':\n",
    "      reward = 1\n",
    "      print(reward)\n",
    "    if inputs == 'No':\n",
    "      reward = 0\n",
    "      print(reward)\n",
    "    else:\n",
    "      reward == -1\n",
    "    print(reward)\n",
    "    cat2_slot_arms_rewards[videonum] = cat2_slot_arms_rewards[videonum]+reward\n",
    "    cat1_slot_arms['Num_Votes'] = cat1_slot_arms_rewards\n",
    "    cat2_slot_arms['Num_Votes'] = cat2_slot_arms_rewards\n",
    "    cat3_slot_arms['Num_Votes'] = cat3_slot_arms_rewards\n",
    "    slot_arms_new = cat1_slot_arms.append(cat2_slot_arms)\n",
    "    slot_arms_new = slot_arms_new.append(cat3_slot_arms)\n",
    "    slot_arms_new.to_csv(\"C:/Users/nedei/OneDrive/Documents/GitHub/DS_Capstone/Recommender/recommender_results.csv\",index = False)\n",
    "    return cat2_slot_arms_rewards\n",
    "import gradio as gr\n",
    "\n",
    "demo = gr.Interface(\n",
    "    fn = review_cat2,\n",
    "    inputs=gr.Radio([\"No\", \"Yes\"],label=\"Was this video helpful?\"),\n",
    "    outputs=None,\n",
    "    description = vidlink2,\n",
    "    css = \"\"\".container {\n",
    "  position: relative;\n",
    "  overflow: hidden;\n",
    "  width: 100%;\n",
    "  padding-bottom: 40%; /* 16:9 Aspect Ratio (divide 9 by 16 = 0.5625) */\n",
    "}\n",
    "\n",
    "/* Then style the iframe to fit in the container div with full height and width */\n",
    ".responsive-iframe {\n",
    "  position: absolute;\n",
    "  top: 0;\n",
    "  left: 0;\n",
    "  bottom: 0;\n",
    "  right: 0;\n",
    "  width: 100%;\n",
    "  height: 100%;\n",
    "}\"\"\")\n",
    "    #description = 'Please click this link:' + cat1vid)\n",
    "#)\n",
    "demo.launch(share = True)"
   ]
  },
  {
   "cell_type": "code",
   "execution_count": 9,
   "metadata": {},
   "outputs": [
    {
     "name": "stdout",
     "output_type": "stream",
     "text": [
      "Chosen\n",
      "1\n"
     ]
    },
    {
     "data": {
      "text/plain": [
       "[0, 4, 4]"
      ]
     },
     "execution_count": 9,
     "metadata": {},
     "output_type": "execute_result"
    }
   ],
   "source": [
    "#setup of initial weights to get prediction\n",
    "weights = tf.Variable(tf.ones([len_cat3_slot_arms]))\n",
    "chosen_action = tf.argmax(cat3_slot_arms_rewards,0)\n",
    "reward_holder = tf.placeholder(shape=[1],dtype=tf.float32)\n",
    "action_holder = tf.placeholder(shape=[1],dtype=tf.int32)\n",
    "responsible_weight = tf.slice(weights,action_holder,[1])\n",
    "loss = -(tf.log(responsible_weight)*reward_holder)\n",
    "optimizer = tf.train.GradientDescentOptimizer(learning_rate=0.01)\n",
    "update = optimizer.minimize(loss)\n",
    "\n",
    "#Run recommendation for Category 1\n",
    "total_episodes = 1\n",
    "total_reward = cat3_slot_arms_rewards #output reward array\n",
    "e = 0.5 #chance of taking a random action.\n",
    "init = tf.initialize_all_variables()\n",
    "\n",
    "with tf.Session() as sess:\n",
    "  sess.run(init)\n",
    "  i = 0\n",
    " \n",
    "  while i < total_episodes:\n",
    "    if np.random.rand(1) < e:\n",
    "      action = np.random.randint(len_cat3_slot_arms)\n",
    "      print('Random')\n",
    "    else:\n",
    "      action = sess.run(chosen_action)\n",
    "      print('Chosen')\n",
    "    reward = 0\n",
    "    _,resp,ww = sess.run([update,responsible_weight,weights], feed_dict={reward_holder:[reward],action_holder:[action]})\n",
    "    total_reward[action] += reward\n",
    "    i+=1\n",
    "print(action)\n",
    "videonum = action\n",
    "videoselected = cat3_slot_arms.iloc[videonum]\n",
    "cat3vid = videoselected[['Link']].values[0]\n",
    "vidlink3 = '''<div class=\"container\"><iframe class=\"responsive-iframe\" src=\"''' +cat3vid+'''\" title=\"YouTube video player\" frameborder=\"0\" allow=\"accelerometer; autoplay; clipboard-write; encrypted-media; gyroscope; picture-in-picture\" allowfullscreen></iframe></div>'''\n",
    "cat3_slot_arms_rewards[videonum] = cat3_slot_arms_rewards[videonum]+reward\n",
    "cat3_slot_arms_rewards"
   ]
  },
  {
   "cell_type": "code",
   "execution_count": 10,
   "metadata": {},
   "outputs": [
    {
     "name": "stdout",
     "output_type": "stream",
     "text": [
      "Running on local URL:  http://127.0.0.1:7864/\n",
      "Running on public URL: https://15603.gradio.app\n",
      "\n",
      "This share link expires in 72 hours. For free permanent hosting, check out Spaces (https://huggingface.co/spaces)\n"
     ]
    },
    {
     "data": {
      "text/html": [
       "<div><iframe src=\"https://15603.gradio.app\" width=\"900\" height=\"500\" allow=\"autoplay; camera; microphone;\" frameborder=\"0\" allowfullscreen></iframe></div>"
      ],
      "text/plain": [
       "<IPython.core.display.HTML object>"
      ]
     },
     "metadata": {},
     "output_type": "display_data"
    },
    {
     "data": {
      "text/plain": [
       "(<gradio.routes.App at 0x1b524e552e0>,\n",
       " 'http://127.0.0.1:7864/',\n",
       " 'https://15603.gradio.app')"
      ]
     },
     "execution_count": 10,
     "metadata": {},
     "output_type": "execute_result"
    },
    {
     "name": "stderr",
     "output_type": "stream",
     "text": [
      "Exception in callback None(<Task finishe...> result=None>)\n",
      "handle: <Handle>\n",
      "Traceback (most recent call last):\n",
      "  File \"C:\\Users\\nedei\\anaconda3\\lib\\asyncio\\events.py\", line 81, in _run\n",
      "    self._context.run(self._callback, *self._args)\n",
      "TypeError: 'NoneType' object is not callable\n"
     ]
    }
   ],
   "source": [
    "def review_cat3(inputs):\n",
    "    if inputs == 'Yes':\n",
    "      reward = 1\n",
    "      print(reward)\n",
    "    if inputs == 'No':\n",
    "      reward = 0\n",
    "      print(reward)\n",
    "    else:\n",
    "      reward == -1\n",
    "    print(reward)\n",
    "    cat3_slot_arms_rewards[videonum] = cat3_slot_arms_rewards[videonum]+reward\n",
    "    cat1_slot_arms['Num_Votes'] = cat1_slot_arms_rewards\n",
    "    cat2_slot_arms['Num_Votes'] = cat2_slot_arms_rewards\n",
    "    cat3_slot_arms['Num_Votes'] = cat3_slot_arms_rewards\n",
    "    slot_arms_new = cat1_slot_arms.append(cat2_slot_arms)\n",
    "    slot_arms_new = slot_arms_new.append(cat3_slot_arms)\n",
    "    slot_arms_new.to_csv(\"C:/Users/nedei/OneDrive/Documents/GitHub/DS_Capstone/Recommender/recommender_results.csv\",index = False)\n",
    "    return cat3_slot_arms_rewards\n",
    "import gradio as gr\n",
    "\n",
    "demo = gr.Interface(\n",
    "    fn = review_cat3,\n",
    "    inputs=gr.Radio([\"No\", \"Yes\"],label=\"Was this video helpful?\"),\n",
    "    outputs=None,\n",
    "    description = vidlink3,\n",
    "    css = \"\"\".container {\n",
    "  position: relative;\n",
    "  overflow: hidden;\n",
    "  width: 100%;\n",
    "  padding-bottom: 40%; /* 16:9 Aspect Ratio (divide 9 by 16 = 0.5625) */\n",
    "}\n",
    "\n",
    "/* Then style the iframe to fit in the container div with full height and width */\n",
    ".responsive-iframe {\n",
    "  position: absolute;\n",
    "  top: 0;\n",
    "  left: 0;\n",
    "  bottom: 0;\n",
    "  right: 0;\n",
    "  width: 100%;\n",
    "  height: 100%;\n",
    "}\"\"\")\n",
    "    #description = 'Please click this link:' + cat1vid)\n",
    "#)\n",
    "demo.launch(share = True)"
   ]
  },
  {
   "cell_type": "code",
   "execution_count": null,
   "metadata": {},
   "outputs": [],
   "source": []
  }
 ],
 "metadata": {
  "kernelspec": {
   "display_name": "Python 3",
   "language": "python",
   "name": "python3"
  },
  "language_info": {
   "codemirror_mode": {
    "name": "ipython",
    "version": 3
   },
   "file_extension": ".py",
   "mimetype": "text/x-python",
   "name": "python",
   "nbconvert_exporter": "python",
   "pygments_lexer": "ipython3",
   "version": "3.8.3"
  }
 },
 "nbformat": 4,
 "nbformat_minor": 4
}
